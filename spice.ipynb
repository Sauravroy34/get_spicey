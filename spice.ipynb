{
 "cells": [
  {
   "cell_type": "code",
   "execution_count": 1,
   "metadata": {},
   "outputs": [
    {
     "name": "stderr",
     "output_type": "stream",
     "text": [
      "/home/saurav/.local/lib/python3.10/site-packages/tqdm/auto.py:21: TqdmWarning: IProgress not found. Please update jupyter and ipywidgets. See https://ipywidgets.readthedocs.io/en/stable/user_install.html\n",
      "  from .autonotebook import tqdm as notebook_tqdm\n"
     ]
    }
   ],
   "source": [
    "from SPICE import SPICEClient\n",
    "from SPICE import attrs as a\n"
   ]
  },
  {
   "cell_type": "code",
   "execution_count": 2,
   "metadata": {},
   "outputs": [
    {
     "data": {
      "text/html": [
       "<div><i>QueryResponseTable length=5</i>\n",
       "<table id=\"table132782117216432\" class=\"table-striped table-bordered table-condensed\">\n",
       "<thead><tr><th>Mission</th><th>Kernel</th><th>Link</th><th>Index</th></tr></thead>\n",
       "<thead><tr><th>str4</th><th>str3</th><th>str31</th><th>int64</th></tr></thead>\n",
       "<tr><td>PSP</td><td>pck</td><td>pck00010.tpc</td><td>0</td></tr>\n",
       "<tr><td>Solo</td><td>pck</td><td>aareadme.txt</td><td>0</td></tr>\n",
       "<tr><td>Solo</td><td>pck</td><td>de403_masses.tpc</td><td>1</td></tr>\n",
       "<tr><td>Solo</td><td>pck</td><td>earth_070425_370426_predict.bpc</td><td>2</td></tr>\n",
       "<tr><td>Solo</td><td>pck</td><td>pck00010.tpc</td><td>3</td></tr>\n",
       "</table></div>"
      ],
      "text/plain": [
       "<sunpy.net.base_client.QueryResponseTable object at 0x78c3e6827c70>\n",
       "Mission Kernel               Link              Index\n",
       "------- ------ ------------------------------- -----\n",
       "    PSP    pck                    pck00010.tpc     0\n",
       "   Solo    pck                    aareadme.txt     0\n",
       "   Solo    pck                de403_masses.tpc     1\n",
       "   Solo    pck earth_070425_370426_predict.bpc     2\n",
       "   Solo    pck                    pck00010.tpc     3"
      ]
     },
     "execution_count": 2,
     "metadata": {},
     "output_type": "execute_result"
    }
   ],
   "source": [
    "\"\"\"\n",
    "Getting pck kernel from both the mission\n",
    "\"\"\"\n",
    "client = SPICEClient.SPICEClient()\n",
    "client.search(a.Kernel_type(\"pck\"))"
   ]
  },
  {
   "cell_type": "code",
   "execution_count": 3,
   "metadata": {},
   "outputs": [
    {
     "name": "stdout",
     "output_type": "stream",
     "text": [
      "no match found for the search terms!\n"
     ]
    },
    {
     "data": {
      "text/html": [
       "<div><i>QueryResponseTable length=2</i>\n",
       "<table id=\"table132782117214320\" class=\"table-striped table-bordered table-condensed\">\n",
       "<thead><tr><th>Mission</th><th>Kernel</th><th>Link</th><th>Index</th></tr></thead>\n",
       "<thead><tr><th>str4</th><th>str2</th><th>str26</th><th>int64</th></tr></thead>\n",
       "<tr><td>Solo</td><td>ik</td><td>solo_ANC_soc-eui-ik_V00.ti</td><td>5</td></tr>\n",
       "<tr><td>Solo</td><td>ik</td><td>solo_ANC_soc-eui-ik_V01.ti</td><td>6</td></tr>\n",
       "</table></div>"
      ],
      "text/plain": [
       "<sunpy.net.base_client.QueryResponseTable object at 0x78c3bef257b0>\n",
       "Mission Kernel            Link            Index\n",
       "------- ------ -------------------------- -----\n",
       "   Solo     ik solo_ANC_soc-eui-ik_V00.ti     5\n",
       "   Solo     ik solo_ANC_soc-eui-ik_V01.ti     6"
      ]
     },
     "execution_count": 3,
     "metadata": {},
     "output_type": "execute_result"
    }
   ],
   "source": [
    "client.search(a.Kernel_type(\"ik\"),a.Instrument(\"eui\")) "
   ]
  },
  {
   "cell_type": "code",
   "execution_count": 5,
   "metadata": {},
   "outputs": [
    {
     "data": {
      "text/html": [
       "<div><i>QueryResponseTable length=1</i>\n",
       "<table id=\"table132782117216192\" class=\"table-striped table-bordered table-condensed\">\n",
       "<thead><tr><th>Mission</th><th>Kernel</th><th>Link</th><th>Index</th></tr></thead>\n",
       "<thead><tr><th>str4</th><th>str2</th><th>str12</th><th>int64</th></tr></thead>\n",
       "<tr><td>Solo</td><td>ik</td><td>aareadme.txt</td><td>0</td></tr>\n",
       "</table></div>"
      ],
      "text/plain": [
       "<sunpy.net.base_client.QueryResponseTable object at 0x78c3bee40e50>\n",
       "Mission Kernel     Link     Index\n",
       "------- ------ ------------ -----\n",
       "   Solo     ik aareadme.txt     0"
      ]
     },
     "execution_count": 5,
     "metadata": {},
     "output_type": "execute_result"
    }
   ],
   "source": [
    "client.search(a.Kernel_type(\"ik\"),a.Readme(True))"
   ]
  },
  {
   "cell_type": "code",
   "execution_count": 7,
   "metadata": {},
   "outputs": [
    {
     "data": {
      "text/html": [
       "<div><i>QueryResponseTable length=1</i>\n",
       "<table id=\"table132782116631024\" class=\"table-striped table-bordered table-condensed\">\n",
       "<thead><tr><th>Mission</th><th>Kernel</th><th>Link</th><th>Index</th></tr></thead>\n",
       "<thead><tr><th>str3</th><th>str3</th><th>str12</th><th>int64</th></tr></thead>\n",
       "<tr><td>PSP</td><td>pck</td><td>pck00010.tpc</td><td>0</td></tr>\n",
       "</table></div>"
      ],
      "text/plain": [
       "<sunpy.net.base_client.QueryResponseTable object at 0x78c3bee4faf0>\n",
       "Mission Kernel     Link     Index\n",
       "------- ------ ------------ -----\n",
       "    PSP    pck pck00010.tpc     0"
      ]
     },
     "execution_count": 7,
     "metadata": {},
     "output_type": "execute_result"
    }
   ],
   "source": [
    "\"\"\"\n",
    "Being mission specific\n",
    "\"\"\"\n",
    "\n",
    "client.search(a.Kernel_type(\"pck\"),a.Mission('PSP')) "
   ]
  },
  {
   "cell_type": "code",
   "execution_count": 8,
   "metadata": {},
   "outputs": [
    {
     "data": {
      "text/html": [
       "<div><i>QueryResponseTable length=2</i>\n",
       "<table id=\"table132782116632560\" class=\"table-striped table-bordered table-condensed\">\n",
       "<thead><tr><th>Mission</th><th>Kernel</th><th>Link</th><th>Index</th></tr></thead>\n",
       "<thead><tr><th>str3</th><th>str2</th><th>str15</th><th>int64</th></tr></thead>\n",
       "<tr><td>PSP</td><td>fk</td><td>spp_dyn_v200.tf</td><td>4</td></tr>\n",
       "<tr><td>PSP</td><td>fk</td><td>spp_dyn_v201.tf</td><td>5</td></tr>\n",
       "</table></div>"
      ],
      "text/plain": [
       "<sunpy.net.base_client.QueryResponseTable object at 0x78c3bee4f700>\n",
       "Mission Kernel       Link      Index\n",
       "------- ------ --------------- -----\n",
       "    PSP     fk spp_dyn_v200.tf     4\n",
       "    PSP     fk spp_dyn_v201.tf     5"
      ]
     },
     "execution_count": 8,
     "metadata": {},
     "output_type": "execute_result"
    }
   ],
   "source": [
    "client.search(a.Kernel_type(\"fk\"),a.Analysis_fk(True))"
   ]
  }
 ],
 "metadata": {
  "kernelspec": {
   "display_name": "Python 3",
   "language": "python",
   "name": "python3"
  },
  "language_info": {
   "codemirror_mode": {
    "name": "ipython",
    "version": 3
   },
   "file_extension": ".py",
   "mimetype": "text/x-python",
   "name": "python",
   "nbconvert_exporter": "python",
   "pygments_lexer": "ipython3",
   "version": "3.10.12"
  }
 },
 "nbformat": 4,
 "nbformat_minor": 2
}
