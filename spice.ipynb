{
 "cells": [
  {
   "cell_type": "code",
   "execution_count": 6,
   "metadata": {},
   "outputs": [],
   "source": [
    "from solar_orbiter import *\n",
    "import attrs as sa"
   ]
  },
  {
   "cell_type": "code",
   "execution_count": 13,
   "metadata": {},
   "outputs": [
    {
     "data": {
      "text/html": [
       "<div><i>SoloResponseTable length=26</i>\n",
       "<table id=\"table134918601427552\" class=\"table-striped table-bordered table-condensed\">\n",
       "<thead><tr><th>Mission</th><th>Kernel</th><th>Link</th><th>Index</th></tr></thead>\n",
       "<thead><tr><th>str4</th><th>str2</th><th>str29</th><th>int64</th></tr></thead>\n",
       "<tr><td>solo</td><td>ik</td><td>aareadme.txt</td><td>0</td></tr>\n",
       "<tr><td>solo</td><td>ik</td><td>solo_ANC_soc-epd-ik_V00.ti</td><td>1</td></tr>\n",
       "<tr><td>solo</td><td>ik</td><td>solo_ANC_soc-epd-ik_V01.ti</td><td>2</td></tr>\n",
       "<tr><td>solo</td><td>ik</td><td>solo_ANC_soc-epd-ik_V02.ti</td><td>3</td></tr>\n",
       "<tr><td>solo</td><td>ik</td><td>solo_ANC_soc-epd-ik_V03.ti</td><td>4</td></tr>\n",
       "<tr><td>solo</td><td>ik</td><td>solo_ANC_soc-eui-ik_V00.ti</td><td>5</td></tr>\n",
       "<tr><td>solo</td><td>ik</td><td>solo_ANC_soc-eui-ik_V01.ti</td><td>6</td></tr>\n",
       "<tr><td>solo</td><td>ik</td><td>solo_ANC_soc-metis-ik_V00.ti</td><td>7</td></tr>\n",
       "<tr><td>solo</td><td>ik</td><td>solo_ANC_soc-metis-ik_V01.ti</td><td>8</td></tr>\n",
       "<tr><td>...</td><td>...</td><td>...</td><td>...</td></tr>\n",
       "<tr><td>solo</td><td>ik</td><td>solo_ANC_soc-spice-ik_V01.ti</td><td>16</td></tr>\n",
       "<tr><td>solo</td><td>ik</td><td>solo_ANC_soc-spice-ik_V02.ti</td><td>17</td></tr>\n",
       "<tr><td>solo</td><td>ik</td><td>solo_ANC_soc-stix-ik_V00.ti</td><td>18</td></tr>\n",
       "<tr><td>solo</td><td>ik</td><td>solo_ANC_soc-stix-ik_V01.ti</td><td>19</td></tr>\n",
       "<tr><td>solo</td><td>ik</td><td>solo_ANC_soc-stix-ik_V02.ti</td><td>20</td></tr>\n",
       "<tr><td>solo</td><td>ik</td><td>solo_ANC_soc-str-ik_V00.ti</td><td>21</td></tr>\n",
       "<tr><td>solo</td><td>ik</td><td>solo_ANC_soc-swa-ik_V00.ti</td><td>22</td></tr>\n",
       "<tr><td>solo</td><td>ik</td><td>solo_ANC_soc-swa-ik_V01.ti</td><td>23</td></tr>\n",
       "<tr><td>solo</td><td>ik</td><td>solo_ANC_soc-swa-ik_V02.ti</td><td>24</td></tr>\n",
       "<tr><td>solo</td><td>ik</td><td>solo_ANC_soc-swa-ik_V03.ti</td><td>25</td></tr>\n",
       "</table></div>"
      ],
      "text/plain": [
       "<solar_orbiter.SoloResponseTable object at 0x7ab52f4b5d80>\n",
       "Mission Kernel             Link             Index\n",
       "------- ------ ---------------------------- -----\n",
       "   solo     ik                 aareadme.txt     0\n",
       "   solo     ik   solo_ANC_soc-epd-ik_V00.ti     1\n",
       "   solo     ik   solo_ANC_soc-epd-ik_V01.ti     2\n",
       "   solo     ik   solo_ANC_soc-epd-ik_V02.ti     3\n",
       "   solo     ik   solo_ANC_soc-epd-ik_V03.ti     4\n",
       "   solo     ik   solo_ANC_soc-eui-ik_V00.ti     5\n",
       "   solo     ik   solo_ANC_soc-eui-ik_V01.ti     6\n",
       "   solo     ik solo_ANC_soc-metis-ik_V00.ti     7\n",
       "   solo     ik solo_ANC_soc-metis-ik_V01.ti     8\n",
       "   solo     ik solo_ANC_soc-metis-ik_V02.ti     9\n",
       "    ...    ...                          ...   ...\n",
       "   solo     ik solo_ANC_soc-spice-ik_V01.ti    16\n",
       "   solo     ik solo_ANC_soc-spice-ik_V02.ti    17\n",
       "   solo     ik  solo_ANC_soc-stix-ik_V00.ti    18\n",
       "   solo     ik  solo_ANC_soc-stix-ik_V01.ti    19\n",
       "   solo     ik  solo_ANC_soc-stix-ik_V02.ti    20\n",
       "   solo     ik   solo_ANC_soc-str-ik_V00.ti    21\n",
       "   solo     ik   solo_ANC_soc-swa-ik_V00.ti    22\n",
       "   solo     ik   solo_ANC_soc-swa-ik_V01.ti    23\n",
       "   solo     ik   solo_ANC_soc-swa-ik_V02.ti    24\n",
       "   solo     ik   solo_ANC_soc-swa-ik_V03.ti    25\n",
       "Length = 26 rows"
      ]
     },
     "execution_count": 13,
     "metadata": {},
     "output_type": "execute_result"
    }
   ],
   "source": [
    "client = SoloClient()\n",
    "client.search(sa.Kernel_type(\"ik\"))"
   ]
  },
  {
   "cell_type": "code",
   "execution_count": 14,
   "metadata": {},
   "outputs": [
    {
     "data": {
      "text/html": [
       "<div><i>SoloResponseTable length=2</i>\n",
       "<table id=\"table134918579933856\" class=\"table-striped table-bordered table-condensed\">\n",
       "<thead><tr><th>Mission</th><th>Kernel</th><th>Link</th><th>Index</th></tr></thead>\n",
       "<thead><tr><th>str4</th><th>str2</th><th>str26</th><th>int64</th></tr></thead>\n",
       "<tr><td>solo</td><td>ik</td><td>solo_ANC_soc-eui-ik_V00.ti</td><td>5</td></tr>\n",
       "<tr><td>solo</td><td>ik</td><td>solo_ANC_soc-eui-ik_V01.ti</td><td>6</td></tr>\n",
       "</table></div>"
      ],
      "text/plain": [
       "<solar_orbiter.SoloResponseTable object at 0x7ab52e13be20>\n",
       "Mission Kernel            Link            Index\n",
       "------- ------ -------------------------- -----\n",
       "   solo     ik solo_ANC_soc-eui-ik_V00.ti     5\n",
       "   solo     ik solo_ANC_soc-eui-ik_V01.ti     6"
      ]
     },
     "execution_count": 14,
     "metadata": {},
     "output_type": "execute_result"
    }
   ],
   "source": [
    "client.search(sa.Kernel_type(\"ik\"),sa.Instrument(\"eui\"))"
   ]
  },
  {
   "cell_type": "code",
   "execution_count": 15,
   "metadata": {},
   "outputs": [
    {
     "data": {
      "text/html": [
       "<div><i>SoloResponseTable length=1</i>\n",
       "<table id=\"table134918580228960\" class=\"table-striped table-bordered table-condensed\">\n",
       "<thead><tr><th>Mission</th><th>Kernel</th><th>Link</th><th>Index</th></tr></thead>\n",
       "<thead><tr><th>str4</th><th>str2</th><th>str12</th><th>int64</th></tr></thead>\n",
       "<tr><td>solo</td><td>ik</td><td>aareadme.txt</td><td>0</td></tr>\n",
       "</table></div>"
      ],
      "text/plain": [
       "<solar_orbiter.SoloResponseTable object at 0x7ab52e0c51b0>\n",
       "Mission Kernel     Link     Index\n",
       "------- ------ ------------ -----\n",
       "   solo     ik aareadme.txt     0"
      ]
     },
     "execution_count": 15,
     "metadata": {},
     "output_type": "execute_result"
    }
   ],
   "source": [
    "client.search(sa.Kernel_type(\"ik\"),sa.Readme(True))"
   ]
  },
  {
   "cell_type": "code",
   "execution_count": 16,
   "metadata": {},
   "outputs": [
    {
     "data": {
      "text/html": [
       "<div><i>SoloResponseTable length=1</i>\n",
       "<table id=\"table134918580229968\" class=\"table-striped table-bordered table-condensed\">\n",
       "<thead><tr><th>Mission</th><th>Kernel</th><th>Link</th><th>Index</th></tr></thead>\n",
       "<thead><tr><th>str4</th><th>str2</th><th>str26</th><th>int64</th></tr></thead>\n",
       "<tr><td>solo</td><td>ik</td><td>solo_ANC_soc-swa-ik_V03.ti</td><td>25</td></tr>\n",
       "</table></div>"
      ],
      "text/plain": [
       "<solar_orbiter.SoloResponseTable object at 0x7ab52e0c59c0>\n",
       "Mission Kernel            Link            Index\n",
       "------- ------ -------------------------- -----\n",
       "   solo     ik solo_ANC_soc-swa-ik_V03.ti    25"
      ]
     },
     "execution_count": 16,
     "metadata": {},
     "output_type": "execute_result"
    }
   ],
   "source": [
    "client.search(sa.Kernel_type(\"ik\"),sa.Link(\"solo_ANC_soc-swa-ik_V03.ti\")) "
   ]
  }
 ],
 "metadata": {
  "kernelspec": {
   "display_name": "Python 3",
   "language": "python",
   "name": "python3"
  },
  "language_info": {
   "codemirror_mode": {
    "name": "ipython",
    "version": 3
   },
   "file_extension": ".py",
   "mimetype": "text/x-python",
   "name": "python",
   "nbconvert_exporter": "python",
   "pygments_lexer": "ipython3",
   "version": "3.10.12"
  }
 },
 "nbformat": 4,
 "nbformat_minor": 2
}
